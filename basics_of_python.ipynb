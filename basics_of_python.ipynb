{
  "nbformat": 4,
  "nbformat_minor": 0,
  "metadata": {
    "colab": {
      "provenance": [],
      "authorship_tag": "ABX9TyPCiU9EcwQ4W6ld11inM3Ae",
      "include_colab_link": true
    },
    "kernelspec": {
      "name": "python3",
      "display_name": "Python 3"
    },
    "language_info": {
      "name": "python"
    }
  },
  "cells": [
    {
      "cell_type": "markdown",
      "metadata": {
        "id": "view-in-github",
        "colab_type": "text"
      },
      "source": [
        "<a href=\"https://colab.research.google.com/github/sirat98/basics-of-python/blob/main/basics_of_python.ipynb\" target=\"_parent\"><img src=\"https://colab.research.google.com/assets/colab-badge.svg\" alt=\"Open In Colab\"/></a>"
      ]
    },
    {
      "cell_type": "markdown",
      "source": [
        "QUE1 List is defined as list=[11,12,13,14]"
      ],
      "metadata": {
        "id": "v0uyVa6fWFdd"
      }
    },
    {
      "cell_type": "code",
      "source": [
        "#to insert elements\n",
        "#que1 add elements to list=[11,12,13,14]\n",
        "#using append ()\n",
        "list=[11,12,13,14]\n",
        "list.append(50)\n",
        "list.append(60)\n",
        "print(\"list after inserting element\",list)"
      ],
      "metadata": {
        "colab": {
          "base_uri": "https://localhost:8080/"
        },
        "id": "hQrkbiFGWHCv",
        "outputId": "3d5f88db-99f6-4046-f203-55f337e28e89"
      },
      "execution_count": null,
      "outputs": [
        {
          "output_type": "stream",
          "name": "stdout",
          "text": [
            "list after inserting element [11, 12, 13, 14, 50, 60]\n"
          ]
        }
      ]
    },
    {
      "cell_type": "code",
      "source": [
        "#que1 add elements to list =[11,12,13,14]\n",
        "#using insert()-add element at desired position\n",
        "list=[11,12,13,14]\n",
        "list.insert(2,50)\n",
        "list.insert(3,60)\n",
        "print(\"list after addition of elements\",list)"
      ],
      "metadata": {
        "colab": {
          "base_uri": "https://localhost:8080/"
        },
        "id": "rIL5t-WLWP9k",
        "outputId": "723ce5ef-465b-43b0-fae3-1cf8f2deca73"
      },
      "execution_count": null,
      "outputs": [
        {
          "output_type": "stream",
          "name": "stdout",
          "text": [
            "list after addition of elements [11, 12, 50, 60, 13, 14]\n"
          ]
        }
      ]
    },
    {
      "cell_type": "code",
      "source": [
        "#que2 WAP to remove 11 and 13 from L\n",
        "#using remove()-we pass element as arguement\n",
        "list=[11,12,13,14]\n",
        "list.remove(11)\n",
        "list.remove(13)\n",
        "print(\"list after removal of element\",list)"
      ],
      "metadata": {
        "colab": {
          "base_uri": "https://localhost:8080/"
        },
        "id": "CKMsnKmIWh6l",
        "outputId": "8d5b8a2e-6248-41d7-fe4e-da44ff922b85"
      },
      "execution_count": null,
      "outputs": [
        {
          "output_type": "stream",
          "name": "stdout",
          "text": [
            "list after removal of element [12, 14]\n"
          ]
        }
      ]
    },
    {
      "cell_type": "code",
      "source": [
        "#que2 WAP to remove 11 and 13 from L\n",
        "#using pop()-we pass index of element as arguement\n",
        "list=[11,12,13,14]\n",
        "list.pop(0)\n",
        "list.pop(1) # this pop works after removal of 11 so index is taken as 1\n",
        "print(\"list after removal of elememt\",list)"
      ],
      "metadata": {
        "colab": {
          "base_uri": "https://localhost:8080/"
        },
        "id": "AM1TMsTiW1lt",
        "outputId": "76d6d6d7-6810-4340-c2cb-3b87e22f34a3"
      },
      "execution_count": null,
      "outputs": [
        {
          "output_type": "stream",
          "name": "stdout",
          "text": [
            "list after removal of elememt [12, 14]\n"
          ]
        }
      ]
    },
    {
      "cell_type": "code",
      "source": [
        "#que3 WAP to sort L in ascending order\n",
        "list=[11,12,13,14]\n",
        "list.sort()\n",
        "print(\"list after sorting of elements\",list)"
      ],
      "metadata": {
        "colab": {
          "base_uri": "https://localhost:8080/"
        },
        "id": "GdNHHegEW5h1",
        "outputId": "b3b6d1a0-d0b0-43de-c663-c5bc830e6e1e"
      },
      "execution_count": null,
      "outputs": [
        {
          "output_type": "stream",
          "name": "stdout",
          "text": [
            "list after sorting of elements [11, 12, 13, 14]\n"
          ]
        }
      ]
    },
    {
      "cell_type": "code",
      "source": [
        "#que4 WAP to sort L in descending order\n",
        "list=[11,12,13,14]\n",
        "list.sort(reverse=True)\n",
        "print(\"list in descending order\",list)"
      ],
      "metadata": {
        "colab": {
          "base_uri": "https://localhost:8080/"
        },
        "id": "J1eGRyWqW-zr",
        "outputId": "262bad76-dd3a-44fa-cb5d-1664e25ecf9f"
      },
      "execution_count": null,
      "outputs": [
        {
          "output_type": "stream",
          "name": "stdout",
          "text": [
            "list in descending order [14, 13, 12, 11]\n"
          ]
        }
      ]
    },
    {
      "cell_type": "code",
      "source": [
        "#que5 WAP to search for 13 in L\n",
        "list=[11,12,13,14]\n",
        "for i in list:\n",
        "    if i==13 :\n",
        "        print(\"element is present\",i)"
      ],
      "metadata": {
        "colab": {
          "base_uri": "https://localhost:8080/"
        },
        "id": "HIizlwphXAcd",
        "outputId": "89985cda-50f7-4497-e392-478053e51ce3"
      },
      "execution_count": null,
      "outputs": [
        {
          "output_type": "stream",
          "name": "stdout",
          "text": [
            "element is present 13\n"
          ]
        }
      ]
    },
    {
      "cell_type": "code",
      "source": [
        "#que6 WAP to count the number of elements present in list\n",
        "list=[11,12,13,14]\n",
        "print(\"number of elements present are\",len(list))"
      ],
      "metadata": {
        "colab": {
          "base_uri": "https://localhost:8080/"
        },
        "id": "QNww4UmzXGgh",
        "outputId": "e289cd8a-33f7-4329-9ffc-1c5c24e08ab8"
      },
      "execution_count": null,
      "outputs": [
        {
          "output_type": "stream",
          "name": "stdout",
          "text": [
            "number of elements present are 4\n"
          ]
        }
      ]
    },
    {
      "cell_type": "code",
      "source": [
        "#que7 WAP to sum all elements in L\n",
        "list=[11,12,13,14]\n",
        "s=0\n",
        "for i in list:\n",
        "    s=s+i\n",
        "print(\"sum of all elements is\",s)"
      ],
      "metadata": {
        "colab": {
          "base_uri": "https://localhost:8080/"
        },
        "id": "T3W1-qhmXKG0",
        "outputId": "b0c27eec-405e-4782-fe27-c4c2725af545"
      },
      "execution_count": null,
      "outputs": [
        {
          "output_type": "stream",
          "name": "stdout",
          "text": [
            "sum of all elements is 50\n"
          ]
        }
      ]
    },
    {
      "cell_type": "code",
      "source": [
        "#que8 WAP to sum all odd numbers in L\n",
        "list=[11,12,13,14]\n",
        "s=0\n",
        "for i in list:\n",
        "    if (i%2 != 0):\n",
        "        s=s+i\n",
        "print(\"sum of odd numbers is\",s)"
      ],
      "metadata": {
        "colab": {
          "base_uri": "https://localhost:8080/"
        },
        "id": "qGGjTMBsXNZ1",
        "outputId": "9a7c1b9b-9649-4d5a-dd23-30713d4f6a94"
      },
      "execution_count": null,
      "outputs": [
        {
          "output_type": "stream",
          "name": "stdout",
          "text": [
            "sum of odd numbers is 24\n"
          ]
        }
      ]
    },
    {
      "cell_type": "code",
      "source": [
        "#que9 WAP to sum all even numbers in L\n",
        "list=[11,12,13,14]\n",
        "s=0\n",
        "for i in list:\n",
        "    if(i%2 == 0):\n",
        "        s=s+i\n",
        "print(\"sum of all even numbers is\",s)"
      ],
      "metadata": {
        "colab": {
          "base_uri": "https://localhost:8080/"
        },
        "id": "Mte_hPPAXNnu",
        "outputId": "164d3b7d-c701-45dd-8054-c357e2b9402d"
      },
      "execution_count": null,
      "outputs": [
        {
          "output_type": "stream",
          "name": "stdout",
          "text": [
            "sum of all even numbers is 26\n"
          ]
        }
      ]
    },
    {
      "cell_type": "code",
      "source": [
        "#que10 WAP to sum all prime numbers in L\n",
        "list=[11,12,13,14]\n",
        "def is_prime(n):\n",
        "  if n<2:\n",
        "    return False\n",
        "  for i in range (2,n//2+1):\n",
        "    if n%i == 0:\n",
        "      return False\n",
        "  return True\n",
        "sum_prime=sum( i for i in list if is_prime(i))\n",
        "\n",
        "print(\"sum of prime numbers is\",sum_prime)"
      ],
      "metadata": {
        "colab": {
          "base_uri": "https://localhost:8080/"
        },
        "id": "nfT3zgcqXNuP",
        "outputId": "8b183f2c-ab09-4617-d682-50e14b086c6d"
      },
      "execution_count": null,
      "outputs": [
        {
          "output_type": "stream",
          "name": "stdout",
          "text": [
            "sum of prime numbers is 24\n"
          ]
        }
      ]
    },
    {
      "cell_type": "code",
      "source": [
        "#que11 WAP to clear all elements in L\n",
        "list=[11,12,13,14]\n",
        "list.clear()\n",
        "print(\"list after clearing all elements\",list)"
      ],
      "metadata": {
        "colab": {
          "base_uri": "https://localhost:8080/"
        },
        "id": "sS7fzLYCXN2D",
        "outputId": "02a4a12b-d04a-47a5-c63c-a01ce9278473"
      },
      "execution_count": null,
      "outputs": [
        {
          "output_type": "stream",
          "name": "stdout",
          "text": [
            "list after clearing all elements []\n"
          ]
        }
      ]
    },
    {
      "cell_type": "code",
      "source": [
        "#que12 WAP to delete L\n",
        "list=[11,12,13,14]\n",
        "del list[:]\n",
        "print(list)"
      ],
      "metadata": {
        "colab": {
          "base_uri": "https://localhost:8080/"
        },
        "id": "bvNgk6HLXN6E",
        "outputId": "54f5dae5-ca05-4068-ea79-961902c11637"
      },
      "execution_count": null,
      "outputs": [
        {
          "output_type": "stream",
          "name": "stdout",
          "text": [
            "[]\n"
          ]
        }
      ]
    },
    {
      "cell_type": "markdown",
      "source": [
        "QUE2 Dictionary is defined as D={1:5.6,2:7.8,3:6.6,4:8.7,5:7.7}"
      ],
      "metadata": {
        "id": "mgbqTDZ6Yor_"
      }
    },
    {
      "cell_type": "code",
      "source": [
        "#que1 WAP to add new entry in D;key=8 and value is 8.8\n",
        "D={1:5.6,2:7.8,3:6.6,4:8.7,5:7.7}\n",
        "D[8]=8.8\n",
        "print(\"dictionary after updating\",D)"
      ],
      "metadata": {
        "colab": {
          "base_uri": "https://localhost:8080/"
        },
        "id": "fu9TYJG-YqJi",
        "outputId": "1f652dbf-c3dd-40bb-894e-3637a1741d7e"
      },
      "execution_count": null,
      "outputs": [
        {
          "output_type": "stream",
          "name": "stdout",
          "text": [
            "dictionary after updating {1: 5.6, 2: 7.8, 3: 6.6, 4: 8.7, 5: 7.7, 8: 8.8}\n"
          ]
        }
      ]
    },
    {
      "cell_type": "code",
      "source": [
        "#que2  WAP to remove key=2\n",
        "D={1:5.6,2:7.8,3:6.6,4:8.7,5:7.7}\n",
        "del(D[2]) #we pass value of key\n",
        "print(\"dictionary after deleting\",D)\n",
        "\n"
      ],
      "metadata": {
        "colab": {
          "base_uri": "https://localhost:8080/"
        },
        "id": "czBjsBeKYvrB",
        "outputId": "b15b4947-3f9a-4bf2-8f14-bddae5697c22"
      },
      "execution_count": null,
      "outputs": [
        {
          "output_type": "stream",
          "name": "stdout",
          "text": [
            "dictionary after deleting {1: 5.6, 3: 6.6, 4: 8.7, 5: 7.7}\n"
          ]
        }
      ]
    },
    {
      "cell_type": "code",
      "source": [
        "#que3 WAP to check whether 6 key is present in D\n",
        "D={1:5.6,2:7.8,3:6.6,4:8.7,5:7.7}\n",
        "print(\"to check if key 6 is present\",6 in D)\n",
        "\n"
      ],
      "metadata": {
        "colab": {
          "base_uri": "https://localhost:8080/"
        },
        "id": "k0iOusbaYvyM",
        "outputId": "86cda592-2977-4344-8a47-e086b0a2762d"
      },
      "execution_count": null,
      "outputs": [
        {
          "output_type": "stream",
          "name": "stdout",
          "text": [
            "to check if key 6 is present False\n"
          ]
        }
      ]
    },
    {
      "cell_type": "code",
      "source": [
        "#que4 WAP to count the number of elements present in D\n",
        "D={1:5.6,2:7.8,3:6.6,4:8.7,5:7.7}\n",
        "print(\"number of elements present are\",len(D))\n"
      ],
      "metadata": {
        "colab": {
          "base_uri": "https://localhost:8080/"
        },
        "id": "vqB_ww2iYv4x",
        "outputId": "9a4b5539-5d4f-4086-ce7e-e43713ae9f09"
      },
      "execution_count": null,
      "outputs": [
        {
          "output_type": "stream",
          "name": "stdout",
          "text": [
            "number of elements present are 5\n"
          ]
        }
      ]
    },
    {
      "cell_type": "code",
      "source": [
        "#que5 WAP to add all values present in D\n",
        "D={1:5.6,2:7.8,3:6.6,4:8.7,5:7.7}\n",
        "s=0\n",
        "for i in range(1,6):\n",
        "    s=s+i\n",
        "print(\"sum of all elements is\",s)"
      ],
      "metadata": {
        "colab": {
          "base_uri": "https://localhost:8080/"
        },
        "id": "VKN1lp1cYv9Q",
        "outputId": "b8931d06-5bf9-4274-96d9-87d791a2f0e4"
      },
      "execution_count": null,
      "outputs": [
        {
          "output_type": "stream",
          "name": "stdout",
          "text": [
            "sum of all elements is 15\n"
          ]
        }
      ]
    },
    {
      "cell_type": "code",
      "source": [
        "#que6 WAP to update the value of 3 to 7.1\n",
        "D={1:5.6,2:7.8,3:6.6,4:8.7,5:7.7}\n",
        "D[3]=7.1\n",
        "print(\"dictionary after updating\",D)"
      ],
      "metadata": {
        "colab": {
          "base_uri": "https://localhost:8080/"
        },
        "id": "Bm-fuPjnYwCC",
        "outputId": "5d3c415c-bcb7-488c-d2d1-807dbde17a99"
      },
      "execution_count": null,
      "outputs": [
        {
          "output_type": "stream",
          "name": "stdout",
          "text": [
            "dictionary after updating {1: 5.6, 2: 7.8, 3: 7.1, 4: 8.7, 5: 7.7}\n"
          ]
        }
      ]
    },
    {
      "cell_type": "code",
      "source": [
        "#que7 WAP to clear the dictionary\n",
        "D={1:5.6,2:7.8,3:6.6,4:8.7,5:7.7}\n",
        "D.clear()\n",
        "print(\"dictionary after clearing the elements\",D)"
      ],
      "metadata": {
        "colab": {
          "base_uri": "https://localhost:8080/"
        },
        "id": "Kecwac1VYwFn",
        "outputId": "84e58fae-5b7f-42f2-8480-f25405c43f76"
      },
      "execution_count": null,
      "outputs": [
        {
          "output_type": "stream",
          "name": "stdout",
          "text": [
            "dictionary after clearing the elements {}\n"
          ]
        }
      ]
    },
    {
      "cell_type": "markdown",
      "source": [
        "QUE3\n",
        "S1 is a set defined as S1=[10,20,30,40,50,60]\n",
        "S2 is a set defined as S2=[40,50,60,70,80,90]"
      ],
      "metadata": {
        "id": "82ylD6IqZGm-"
      }
    },
    {
      "cell_type": "code",
      "source": [
        "#que1 WAP to add 55 and 66 in set S1\n",
        "S1=set([10,20,30,40,50,60])\n",
        "print(\"Set S1 is defined as\",S1)\n",
        "S1.add(55)\n",
        "S1.add(66)\n",
        "print(\"set after addition of elements\",S1)\n"
      ],
      "metadata": {
        "colab": {
          "base_uri": "https://localhost:8080/"
        },
        "id": "FuGRWVwPYwKF",
        "outputId": "06c3f76b-cad1-4eb8-da93-8ad7d7d48b4f"
      },
      "execution_count": null,
      "outputs": [
        {
          "output_type": "stream",
          "name": "stdout",
          "text": [
            "Set S1 is defined as {40, 10, 50, 20, 60, 30}\n",
            "set after addition of elements {66, 40, 10, 50, 20, 55, 60, 30}\n"
          ]
        }
      ]
    },
    {
      "cell_type": "code",
      "source": [
        "#que2 WAP to remove 10 and 30 from set S1\n",
        "S1=set([10,20,30,40,50,60])\n",
        "print(\"Set S1 is defined as\",S1)\n",
        "S1.remove(10)\n",
        "S1.remove(30)\n",
        "print(\"after removal of element\",S1)\n"
      ],
      "metadata": {
        "colab": {
          "base_uri": "https://localhost:8080/"
        },
        "id": "QSW99BM-YwO8",
        "outputId": "5ddd46cf-16c2-4007-ec66-b076a96f87b9"
      },
      "execution_count": null,
      "outputs": [
        {
          "output_type": "stream",
          "name": "stdout",
          "text": [
            "Set S1 is defined as {40, 10, 50, 20, 60, 30}\n",
            "after removal of element {40, 50, 20, 60}\n"
          ]
        }
      ]
    },
    {
      "cell_type": "code",
      "source": [
        "#que3 WAP to check whether 40 is present in S1\n",
        "S1=set([10,20,30,40,50,60])\n",
        "print(\"Set S1 is defined as\",S1)\n",
        "print(\"to check if 40 is present in S1\",40 in S1)\n"
      ],
      "metadata": {
        "colab": {
          "base_uri": "https://localhost:8080/"
        },
        "id": "eIOaYIzEYwSa",
        "outputId": "831f3a85-b712-4a49-bc78-68ab5961411a"
      },
      "execution_count": null,
      "outputs": [
        {
          "output_type": "stream",
          "name": "stdout",
          "text": [
            "Set S1 is defined as {40, 10, 50, 20, 60, 30}\n",
            "to check if 40 is present in S1 True\n"
          ]
        }
      ]
    },
    {
      "cell_type": "code",
      "source": [
        "#que4 WAP to find union between S1 and S2\n",
        "S1=set([10,20,30,40,50,60])\n",
        "print(\"Set S1 is defined as\",S1)\n",
        "S2=set([40,50,60,70,80,90])\n",
        "print(\"Set S2 is defined as\",S2)\n",
        "print(\"union of S1 and S2\",S1.union(S2))"
      ],
      "metadata": {
        "colab": {
          "base_uri": "https://localhost:8080/"
        },
        "id": "eUtmGcNPZX6a",
        "outputId": "788b2a24-05ad-4abb-be6b-2099f3b8f490"
      },
      "execution_count": null,
      "outputs": [
        {
          "output_type": "stream",
          "name": "stdout",
          "text": [
            "Set S1 is defined as {40, 10, 50, 20, 60, 30}\n",
            "Set S2 is defined as {70, 40, 80, 50, 90, 60}\n",
            "union of S1 and S2 {70, 40, 10, 80, 50, 20, 90, 60, 30}\n"
          ]
        }
      ]
    },
    {
      "cell_type": "code",
      "source": [
        "#que5 WAP to find intersection between S1 and S2\n",
        "S1=set([10,20,30,40,50,60])\n",
        "print(\"Set S1 is defined as\",S1)\n",
        "S2=set([40,50,60,70,80,90])\n",
        "print(\"Set S2 is defined as\",S2)\n",
        "print(\"union of S1 and S2\",S1.intersection(S2))"
      ],
      "metadata": {
        "colab": {
          "base_uri": "https://localhost:8080/"
        },
        "id": "5qHj-b3uZX8t",
        "outputId": "ee3cd8e8-47ed-4468-e7c7-06b0097c6436"
      },
      "execution_count": null,
      "outputs": [
        {
          "output_type": "stream",
          "name": "stdout",
          "text": [
            "Set S1 is defined as {40, 10, 50, 20, 60, 30}\n",
            "Set S2 is defined as {70, 40, 80, 50, 90, 60}\n",
            "union of S1 and S2 {40, 50, 60}\n"
          ]
        }
      ]
    },
    {
      "cell_type": "code",
      "source": [
        "#que6 WAP to find S1-S2\n",
        "S1=set([10,20,30,40,50,60])\n",
        "print(\"Set S1 is defined as\",S1)\n",
        "S2=set([40,50,60,70,80,90])\n",
        "print(\"Set S2 is defined as\",S2)\n",
        "print(\"S1-S2\",S1.difference(S2))\n"
      ],
      "metadata": {
        "colab": {
          "base_uri": "https://localhost:8080/"
        },
        "id": "sIHIo1jRZX_L",
        "outputId": "5e3688f4-58a9-41e8-e168-e7dd27d68d7a"
      },
      "execution_count": null,
      "outputs": [
        {
          "output_type": "stream",
          "name": "stdout",
          "text": [
            "Set S1 is defined as {40, 10, 50, 20, 60, 30}\n",
            "Set S2 is defined as {70, 40, 80, 50, 90, 60}\n",
            "S1-S2 {10, 20, 30}\n"
          ]
        }
      ]
    },
    {
      "cell_type": "markdown",
      "source": [
        "QUE4 WRITE THE FOLLOWING PROGRAM"
      ],
      "metadata": {
        "id": "TgJH0xmyZlQU"
      }
    },
    {
      "cell_type": "code",
      "source": [
        "#que1 WAP to print 100 random strings whose length between 6 and 8\n",
        "import string as s\n",
        "import random as r\n",
        "for i in range(0,100):\n",
        "    A= r.sample(s.ascii_letters,6)\n",
        "    B=\"\".join(A)\n",
        "    print(B)"
      ],
      "metadata": {
        "colab": {
          "base_uri": "https://localhost:8080/"
        },
        "id": "WCoE8OCkZYBv",
        "outputId": "7ec1bd4b-8045-4b6a-db65-4c9762d42106"
      },
      "execution_count": null,
      "outputs": [
        {
          "output_type": "stream",
          "name": "stdout",
          "text": [
            "dEpQNV\n",
            "zSbRpq\n",
            "bswUFr\n",
            "Etkupl\n",
            "VRimhI\n",
            "XHFTxj\n",
            "lOILTs\n",
            "hReumF\n",
            "TxyJoP\n",
            "LPujCn\n",
            "BuFzPc\n",
            "OlLJrb\n",
            "cirHwm\n",
            "ObGjnZ\n",
            "Pueipa\n",
            "cPjgbK\n",
            "xFPdSB\n",
            "XvzJaW\n",
            "bGHQeE\n",
            "RrZlxq\n",
            "TYOLKr\n",
            "HngfiC\n",
            "hHxBmu\n",
            "cpCJIL\n",
            "tWfgMx\n",
            "vLXBnu\n",
            "tEFqAH\n",
            "OyrKlI\n",
            "pzQIJx\n",
            "mNHDco\n",
            "eJxEnf\n",
            "iTGsWM\n",
            "TgwhQF\n",
            "XaNKho\n",
            "IUZSsm\n",
            "mEBObg\n",
            "aeuJGH\n",
            "CqxhXY\n",
            "aGIFhN\n",
            "XeAITc\n",
            "kwRvye\n",
            "NxwSqz\n",
            "pxosIW\n",
            "JBpqIx\n",
            "XNkvAp\n",
            "nAbRzU\n",
            "fvyubn\n",
            "WaCRDI\n",
            "XGgQSc\n",
            "mHxuYV\n",
            "NqYXSF\n",
            "rnuBbe\n",
            "cAEgdY\n",
            "tvYVEx\n",
            "htYPeM\n",
            "uinJIg\n",
            "vTJuxS\n",
            "ocGCxV\n",
            "AMSzNs\n",
            "SGWLCZ\n",
            "JXlemI\n",
            "ijbYUm\n",
            "ZcmvHe\n",
            "sYUdFt\n",
            "wumexj\n",
            "mpcHxR\n",
            "AIZyfS\n",
            "lUgQxR\n",
            "qSCnfv\n",
            "VWtBdO\n",
            "wgDrme\n",
            "DyELXT\n",
            "AmKvkX\n",
            "jXrbcq\n",
            "RoGSzF\n",
            "cadwKB\n",
            "TgXAKc\n",
            "zPFSnt\n",
            "bxlTms\n",
            "lxqYZv\n",
            "uGReoz\n",
            "SsDhpU\n",
            "xbWqIy\n",
            "RzWpxi\n",
            "bWifZJ\n",
            "RsnXMB\n",
            "uULivP\n",
            "ySfMqX\n",
            "OBAIdz\n",
            "wYEVxb\n",
            "twkBJN\n",
            "lVFuBA\n",
            "faoCPx\n",
            "ymQYsn\n",
            "vsDahV\n",
            "bWtMYS\n",
            "uoehMV\n",
            "uIYTKG\n",
            "ykuXcz\n",
            "DsCEvp\n"
          ]
        }
      ]
    },
    {
      "cell_type": "code",
      "source": [
        "#que2 WAP to print prime numbers between 600 and 800\n",
        "sum=0\n",
        "for i in range (600,800):\n",
        "    count=0\n",
        "    for j in range(1,i+1):\n",
        "        if i%j == 0:\n",
        "            count=count+1\n",
        "    if count==2:\n",
        "        sum=sum+i\n",
        "print(sum)\n"
      ],
      "metadata": {
        "colab": {
          "base_uri": "https://localhost:8080/"
        },
        "id": "lSCYXsI3ZYEf",
        "outputId": "fe7621a3-6a62-4b85-9d11-c07c2c3212b2"
      },
      "execution_count": null,
      "outputs": [
        {
          "output_type": "stream",
          "name": "stdout",
          "text": [
            "20782\n"
          ]
        }
      ]
    },
    {
      "cell_type": "code",
      "source": [
        "#que3 WAP to print all numbers between 100 and 100 that are divisible by 7 and 9\n",
        "for i in range(100,1000):\n",
        "    if i%7 == 0 and i%9 ==0:\n",
        "        print(i)"
      ],
      "metadata": {
        "colab": {
          "base_uri": "https://localhost:8080/"
        },
        "id": "eH23f2B7ZYHU",
        "outputId": "862f9aa0-dd96-421c-b7b3-bac12d62d5d6"
      },
      "execution_count": null,
      "outputs": [
        {
          "output_type": "stream",
          "name": "stdout",
          "text": [
            "126\n",
            "189\n",
            "252\n",
            "315\n",
            "378\n",
            "441\n",
            "504\n",
            "567\n",
            "630\n",
            "693\n",
            "756\n",
            "819\n",
            "882\n",
            "945\n"
          ]
        }
      ]
    },
    {
      "cell_type": "markdown",
      "source": [
        "QUE5 WAP TO CREATE TWO LIST OF 10 RANDOM NUMBERS BETWEEN 10 AND 30 FIND:\n"
      ],
      "metadata": {
        "id": "6xDWG9CTZzZ0"
      }
    },
    {
      "cell_type": "code",
      "source": [
        "#creating two list of random numbers between 10 and 30\n",
        "import random as r\n",
        "L1=[]\n",
        "L2=[]\n",
        "for i in range(10):\n",
        "    L1.append(r.randint(10,30))\n",
        "    L2.append(r.randint(10,30))\n",
        "print(\"L1:\",L1)\n",
        "print(\"L2:\",L2)\n"
      ],
      "metadata": {
        "colab": {
          "base_uri": "https://localhost:8080/"
        },
        "id": "rovkEA9wZYKD",
        "outputId": "2abad080-eff6-425a-d70b-8149aa889585"
      },
      "execution_count": null,
      "outputs": [
        {
          "output_type": "stream",
          "name": "stdout",
          "text": [
            "L1: [21, 27, 29, 24, 11, 28, 15, 19, 29, 22]\n",
            "L2: [30, 14, 10, 22, 26, 21, 23, 10, 16, 12]\n"
          ]
        }
      ]
    },
    {
      "cell_type": "code",
      "source": [
        "#que1 common numbers in two list\n",
        "print(\"L1:\",L1)\n",
        "print(\"L2:\",L2)\n",
        "print(\"common numbers in L1 and L2\",set(L1).intersection(set(L2)))\n"
      ],
      "metadata": {
        "colab": {
          "base_uri": "https://localhost:8080/"
        },
        "id": "XWaXHG4_ZYNl",
        "outputId": "adc95e15-f2ca-40d2-bef0-b7d955caf220"
      },
      "execution_count": null,
      "outputs": [
        {
          "output_type": "stream",
          "name": "stdout",
          "text": [
            "L1: [21, 27, 29, 24, 11, 28, 15, 19, 29, 22]\n",
            "L2: [30, 14, 10, 22, 26, 21, 23, 10, 16, 12]\n",
            "common numbers in L1 and L2 {21, 22}\n"
          ]
        }
      ]
    },
    {
      "cell_type": "code",
      "source": [
        "#que2 unique numbers in both the list\n",
        "print(\"L1:\",L1)\n",
        "print(\"L2:\",L2)\n",
        "print(\"unique numbers in both the list\",set(L1).union(set(L2)))\n"
      ],
      "metadata": {
        "colab": {
          "base_uri": "https://localhost:8080/"
        },
        "id": "EGNWTTmAZ_Fv",
        "outputId": "b4d64533-9b69-4d27-8cf7-fab6df90eea4"
      },
      "execution_count": null,
      "outputs": [
        {
          "output_type": "stream",
          "name": "stdout",
          "text": [
            "L1: [21, 27, 29, 24, 11, 28, 15, 19, 29, 22]\n",
            "L2: [30, 14, 10, 22, 26, 21, 23, 10, 16, 12]\n",
            "unique numbers in both the list {10, 11, 12, 14, 15, 16, 19, 21, 22, 23, 24, 26, 27, 28, 29, 30}\n"
          ]
        }
      ]
    },
    {
      "cell_type": "code",
      "source": [
        "#que3 WAP to print minimum in both the list\n",
        "print(\"L1:\",L1)\n",
        "print(\"L2:\",L2)\n",
        "M=min(L1)\n",
        "N=min(L2)\n",
        "print(\"minimum from L1\",M)\n",
        "print(\"minimum from L2\",N)\n",
        "if M>N:\n",
        "    print(\"N is minimum\")\n",
        "else:\n",
        "    print(\"M is minimum\")\n"
      ],
      "metadata": {
        "colab": {
          "base_uri": "https://localhost:8080/"
        },
        "id": "zhFPMua8Z_Ik",
        "outputId": "8c5d115c-ade1-4171-d52e-49a7e1e36450"
      },
      "execution_count": null,
      "outputs": [
        {
          "output_type": "stream",
          "name": "stdout",
          "text": [
            "L1: [21, 27, 29, 24, 11, 28, 15, 19, 29, 22]\n",
            "L2: [30, 14, 10, 22, 26, 21, 23, 10, 16, 12]\n",
            "minimum from L1 11\n",
            "minimum from L2 10\n",
            "N is minimum\n"
          ]
        }
      ]
    },
    {
      "cell_type": "code",
      "source": [
        "#que4 WAP to print maximum in both the list\n",
        "print(\"L1:\",L1)\n",
        "print(\"L2:\",L2)\n",
        "M=max(L1)\n",
        "N=max(L2)\n",
        "print(\"maximum from L1\",M)\n",
        "print(\"maximum from L2\",N)\n",
        "if M>N:\n",
        "    print(\"M is maximum\")\n",
        "else:\n",
        "    print(\"N is maximum\")\n"
      ],
      "metadata": {
        "colab": {
          "base_uri": "https://localhost:8080/"
        },
        "id": "cbsZqVHLZ_K8",
        "outputId": "adec2254-e417-42d8-c532-f67e886d52b4"
      },
      "execution_count": null,
      "outputs": [
        {
          "output_type": "stream",
          "name": "stdout",
          "text": [
            "L1: [21, 27, 29, 24, 11, 28, 15, 19, 29, 22]\n",
            "L2: [30, 14, 10, 22, 26, 21, 23, 10, 16, 12]\n",
            "maximum from L1 29\n",
            "maximum from L2 30\n",
            "N is maximum\n"
          ]
        }
      ]
    },
    {
      "cell_type": "code",
      "source": [
        "#que5 Sum of both the list\n",
        "print(\"L1:\",L1)\n",
        "print(\"L2:\",L2)\n",
        "P=set(L1).union(set(L2))\n",
        "print(\"union of both the list\",P)\n",
        "sum=0\n",
        "for i in P:\n",
        "    sum=sum+i\n",
        "print(\"sum of both the list\",sum)\n",
        "\n",
        "\n"
      ],
      "metadata": {
        "colab": {
          "base_uri": "https://localhost:8080/"
        },
        "id": "l3ofyZjhZ_Nj",
        "outputId": "4faaf5c6-eac7-421d-b290-2c92c998e460"
      },
      "execution_count": null,
      "outputs": [
        {
          "output_type": "stream",
          "name": "stdout",
          "text": [
            "L1: [21, 27, 29, 24, 11, 28, 15, 19, 29, 22]\n",
            "L2: [30, 14, 10, 22, 26, 21, 23, 10, 16, 12]\n",
            "union of both the list {10, 11, 12, 14, 15, 16, 19, 21, 22, 23, 24, 26, 27, 28, 29, 30}\n",
            "sum of both the list 327\n"
          ]
        }
      ]
    },
    {
      "cell_type": "markdown",
      "source": [
        "QUE6 WAP TO CREATE A LIST OF 100 RANDOM NUMBERS BETWEEN 100 AND 900.COUNT AND PRINT IT"
      ],
      "metadata": {
        "id": "hUm2-kKoaRnw"
      }
    },
    {
      "cell_type": "code",
      "source": [
        "#to create a list of 100 random numbers between 100 and 900\n",
        "import random as r\n",
        "C=[]\n",
        "for i in range(0,100):\n",
        "    C.append(r.randint(100,900))\n",
        "print(\"list of 100 random integers is\",C)\n"
      ],
      "metadata": {
        "colab": {
          "base_uri": "https://localhost:8080/"
        },
        "id": "6axF1PaBZ_QX",
        "outputId": "0fba6b37-2d2c-401a-c893-017affeb694b"
      },
      "execution_count": null,
      "outputs": [
        {
          "output_type": "stream",
          "name": "stdout",
          "text": [
            "list of 100 random integers is [526, 216, 434, 747, 560, 807, 104, 625, 451, 827, 834, 841, 427, 151, 283, 392, 655, 482, 641, 478, 177, 430, 303, 638, 507, 812, 447, 493, 230, 559, 142, 883, 726, 417, 255, 805, 602, 623, 875, 590, 514, 710, 372, 717, 127, 805, 538, 547, 195, 188, 388, 670, 185, 667, 709, 883, 333, 635, 343, 224, 221, 107, 476, 567, 758, 411, 518, 475, 184, 805, 602, 740, 543, 238, 806, 686, 553, 664, 198, 284, 254, 105, 507, 375, 368, 178, 300, 327, 492, 746, 310, 796, 505, 349, 393, 168, 600, 697, 220, 169]\n"
          ]
        }
      ]
    },
    {
      "cell_type": "code",
      "source": [
        "#que1 all odd numbers\n",
        "print(\"list of 100 random integers is\",C)\n",
        "sum=0\n",
        "count=0\n",
        "for i in C:\n",
        "     if i%2 != 0:\n",
        "         print(i)\n",
        "         count=count+1\n",
        "print(\"odd numbers are\",count)\n",
        "\n",
        "\n",
        "\n",
        "\n"
      ],
      "metadata": {
        "colab": {
          "base_uri": "https://localhost:8080/"
        },
        "id": "uWHuIYEmZ_S-",
        "outputId": "f46cb8ab-c0a0-4ac7-8acb-2564ffab6553"
      },
      "execution_count": null,
      "outputs": [
        {
          "output_type": "stream",
          "name": "stdout",
          "text": [
            "list of 100 random integers is [526, 216, 434, 747, 560, 807, 104, 625, 451, 827, 834, 841, 427, 151, 283, 392, 655, 482, 641, 478, 177, 430, 303, 638, 507, 812, 447, 493, 230, 559, 142, 883, 726, 417, 255, 805, 602, 623, 875, 590, 514, 710, 372, 717, 127, 805, 538, 547, 195, 188, 388, 670, 185, 667, 709, 883, 333, 635, 343, 224, 221, 107, 476, 567, 758, 411, 518, 475, 184, 805, 602, 740, 543, 238, 806, 686, 553, 664, 198, 284, 254, 105, 507, 375, 368, 178, 300, 327, 492, 746, 310, 796, 505, 349, 393, 168, 600, 697, 220, 169]\n",
            "747\n",
            "807\n",
            "625\n",
            "451\n",
            "827\n",
            "841\n",
            "427\n",
            "151\n",
            "283\n",
            "655\n",
            "641\n",
            "177\n",
            "303\n",
            "507\n",
            "447\n",
            "493\n",
            "559\n",
            "883\n",
            "417\n",
            "255\n",
            "805\n",
            "623\n",
            "875\n",
            "717\n",
            "127\n",
            "805\n",
            "547\n",
            "195\n",
            "185\n",
            "667\n",
            "709\n",
            "883\n",
            "333\n",
            "635\n",
            "343\n",
            "221\n",
            "107\n",
            "567\n",
            "411\n",
            "475\n",
            "805\n",
            "543\n",
            "553\n",
            "105\n",
            "507\n",
            "375\n",
            "327\n",
            "505\n",
            "349\n",
            "393\n",
            "697\n",
            "169\n",
            "odd numbers are 52\n"
          ]
        }
      ]
    },
    {
      "cell_type": "code",
      "source": [
        "#que2 all even numbers\n",
        "\n",
        "print(\"list of 100 random integers is\",C)\n",
        "sum=0\n",
        "count=0\n",
        "for i in C:\n",
        "     if i%2 == 0:\n",
        "         print(i)\n",
        "         count=count+1\n",
        "print(\"even numbers are\",count)\n",
        "\n",
        "\n",
        "\n",
        "\n",
        "\n"
      ],
      "metadata": {
        "colab": {
          "base_uri": "https://localhost:8080/"
        },
        "id": "472kD69eZ_V9",
        "outputId": "7c25962e-0f73-4654-83d8-54f70ae19f17"
      },
      "execution_count": null,
      "outputs": [
        {
          "output_type": "stream",
          "name": "stdout",
          "text": [
            "list of 100 random integers is [526, 216, 434, 747, 560, 807, 104, 625, 451, 827, 834, 841, 427, 151, 283, 392, 655, 482, 641, 478, 177, 430, 303, 638, 507, 812, 447, 493, 230, 559, 142, 883, 726, 417, 255, 805, 602, 623, 875, 590, 514, 710, 372, 717, 127, 805, 538, 547, 195, 188, 388, 670, 185, 667, 709, 883, 333, 635, 343, 224, 221, 107, 476, 567, 758, 411, 518, 475, 184, 805, 602, 740, 543, 238, 806, 686, 553, 664, 198, 284, 254, 105, 507, 375, 368, 178, 300, 327, 492, 746, 310, 796, 505, 349, 393, 168, 600, 697, 220, 169]\n",
            "526\n",
            "216\n",
            "434\n",
            "560\n",
            "104\n",
            "834\n",
            "392\n",
            "482\n",
            "478\n",
            "430\n",
            "638\n",
            "812\n",
            "230\n",
            "142\n",
            "726\n",
            "602\n",
            "590\n",
            "514\n",
            "710\n",
            "372\n",
            "538\n",
            "188\n",
            "388\n",
            "670\n",
            "224\n",
            "476\n",
            "758\n",
            "518\n",
            "184\n",
            "602\n",
            "740\n",
            "238\n",
            "806\n",
            "686\n",
            "664\n",
            "198\n",
            "284\n",
            "254\n",
            "368\n",
            "178\n",
            "300\n",
            "492\n",
            "746\n",
            "310\n",
            "796\n",
            "168\n",
            "600\n",
            "220\n",
            "even numbers are 48\n"
          ]
        }
      ]
    },
    {
      "cell_type": "code",
      "source": [
        "#que3 all prime numbers\n",
        "print(\"list of 100 random integers is\",C)\n",
        "def is_prime(i):\n",
        "  for j in range (2,i//2+1):\n",
        "    if i%j == 0:\n",
        "      return False\n",
        "    return True\n",
        "for i in C:\n",
        "  if is_prime(i):\n",
        "    print(i)\n",
        "\n",
        "\n",
        "\n"
      ],
      "metadata": {
        "colab": {
          "base_uri": "https://localhost:8080/"
        },
        "id": "upnDkJtdZ_Ys",
        "outputId": "eb2f0f64-0f30-421f-b88f-08a1845371d1"
      },
      "execution_count": null,
      "outputs": [
        {
          "output_type": "stream",
          "name": "stdout",
          "text": [
            "list of 100 random integers is [526, 216, 434, 747, 560, 807, 104, 625, 451, 827, 834, 841, 427, 151, 283, 392, 655, 482, 641, 478, 177, 430, 303, 638, 507, 812, 447, 493, 230, 559, 142, 883, 726, 417, 255, 805, 602, 623, 875, 590, 514, 710, 372, 717, 127, 805, 538, 547, 195, 188, 388, 670, 185, 667, 709, 883, 333, 635, 343, 224, 221, 107, 476, 567, 758, 411, 518, 475, 184, 805, 602, 740, 543, 238, 806, 686, 553, 664, 198, 284, 254, 105, 507, 375, 368, 178, 300, 327, 492, 746, 310, 796, 505, 349, 393, 168, 600, 697, 220, 169]\n",
            "747\n",
            "807\n",
            "625\n",
            "451\n",
            "827\n",
            "841\n",
            "427\n",
            "151\n",
            "283\n",
            "655\n",
            "641\n",
            "177\n",
            "303\n",
            "507\n",
            "447\n",
            "493\n",
            "559\n",
            "883\n",
            "417\n",
            "255\n",
            "805\n",
            "623\n",
            "875\n",
            "717\n",
            "127\n",
            "805\n",
            "547\n",
            "195\n",
            "185\n",
            "667\n",
            "709\n",
            "883\n",
            "333\n",
            "635\n",
            "343\n",
            "221\n",
            "107\n",
            "567\n",
            "411\n",
            "475\n",
            "805\n",
            "543\n",
            "553\n",
            "105\n",
            "507\n",
            "375\n",
            "327\n",
            "505\n",
            "349\n",
            "393\n",
            "697\n",
            "169\n"
          ]
        }
      ]
    },
    {
      "cell_type": "code",
      "source": [
        "#que7  D is a dictionary defined as D={1:\"one\",2:\"two\",3:\"three\",4:\"four\",5:\"five\"}\n",
        "#WAP to read all keys and values frim dictionary and write into a file\n",
        "import pandas as pd\n",
        "D={1:\"one\",2:\"two\",3:\"three\",4:\"four\",5:\"five\"}\n",
        "df=pd.DataFrame.from_dict(D,orient=\"index\")\n",
        "print(df)\n",
        "\n"
      ],
      "metadata": {
        "colab": {
          "base_uri": "https://localhost:8080/"
        },
        "id": "BPs7RoZgd1C_",
        "outputId": "d7f073ac-ccad-49c7-f739-5b4bb0552307"
      },
      "execution_count": null,
      "outputs": [
        {
          "output_type": "stream",
          "name": "stdout",
          "text": [
            "       0\n",
            "1    one\n",
            "2    two\n",
            "3  three\n",
            "4   four\n",
            "5   five\n"
          ]
        }
      ]
    },
    {
      "cell_type": "code",
      "source": [
        "#que8 List is defined WAP to count the lenth of each element and write to a file\n",
        "# Opening a file\n",
        "\n",
        "L = [\"one\",\"two\",\"three\",\"four\",\"five\"]\n",
        "f = open('myfile.txt', 'w')\n",
        "for i in L :\n",
        "  f.write('%s\\n' %len(i))\n",
        "\n",
        "\n",
        "# Closing file\n",
        "f.close()\n",
        "\n",
        "# Checking if the data is\n",
        "# written to file or not\n",
        "f = open('myfile.txt', 'r')\n",
        "print(f.read())\n",
        "f.close()"
      ],
      "metadata": {
        "colab": {
          "base_uri": "https://localhost:8080/"
        },
        "id": "L6u8-7w8ev03",
        "outputId": "a05e3872-6ecd-423f-f1bb-5db640d2c44a"
      },
      "execution_count": 21,
      "outputs": [
        {
          "output_type": "stream",
          "name": "stdout",
          "text": [
            "3\n",
            "3\n",
            "5\n",
            "4\n",
            "4\n",
            "\n"
          ]
        }
      ]
    },
    {
      "cell_type": "code",
      "source": [
        "#que9 write to file 100 random strings whose length between 10 and 15\n",
        "import string as s\n",
        "import random as r\n",
        "f = open('myfile1.txt', 'w')\n",
        "\n",
        "for i in range(0,100):\n",
        "  pass_wd=''.join(r.sample(s.ascii_letters,r.randint(10,16)))\n",
        "  f.write('%s\\n' %pass_wd)\n",
        "\n",
        "\n",
        "\n",
        "\n",
        "# Closing file\n",
        "f.close()\n",
        "\n",
        "# Checking if the data is\n",
        "# written to file or not\n",
        "f = open('myfile1.txt', 'r')\n",
        "print(f.read())\n",
        "f.close()\n",
        "\n"
      ],
      "metadata": {
        "id": "7nxb0CvQfH6S",
        "colab": {
          "base_uri": "https://localhost:8080/"
        },
        "outputId": "e96068e6-a6bb-44f9-959b-14eef23ae997"
      },
      "execution_count": 29,
      "outputs": [
        {
          "output_type": "stream",
          "name": "stdout",
          "text": [
            "tiUhNwYTOxgXc\n",
            "ESBCaxjXezr\n",
            "cARksmrTIS\n",
            "EAVymCTaGcxDkjq\n",
            "NTOqRkPdCXsbehB\n",
            "NoHUaVItjRKve\n",
            "rKBZRPwyHpGX\n",
            "keqPTFHClcNEYZr\n",
            "YKQZrsGVDFte\n",
            "OrAuLSoNWFj\n",
            "JmXUtPduhoeFsc\n",
            "crumWPZgGCUFA\n",
            "ftKIJwLQisWl\n",
            "rNbUJZnWgFwBT\n",
            "AyDiKGOtqoa\n",
            "zCHjEOndrDtXlL\n",
            "NdQProgxuOmUp\n",
            "PshVTlXdKrMSEpx\n",
            "WGgFJEfXKMxCLob\n",
            "MygfoFAdRqiz\n",
            "rXpaBFhATZjl\n",
            "rfdyJsmoAHiK\n",
            "gYodFrvjIQ\n",
            "UhgtxdbHes\n",
            "OSzfpdEeHTnbJ\n",
            "WCrFhqQNgxGnd\n",
            "romSPnIgQdA\n",
            "FjulEXyTGQo\n",
            "qFhAdzPcSHtmVgXZ\n",
            "BKIXsUaVLtflJ\n",
            "zCsjlTAyQbWXFku\n",
            "yfNuatcinlbpXPI\n",
            "uCsqZflcpnmMRSLU\n",
            "UJsAmINOtQwdCei\n",
            "TRPgwymLUHYMVhO\n",
            "rEntslWFNpBcMR\n",
            "gSUmRwBanVMbyKrp\n",
            "VEoudDelAU\n",
            "aezGJfrYnB\n",
            "KAxrakDbng\n",
            "ixtgGIqbrPANCVz\n",
            "VnRYIgsSBudm\n",
            "xEnrZebkSJdaDz\n",
            "uTagcbiRGHwq\n",
            "sjrGuhOPWReZfVtK\n",
            "LtluIvOpKUSBnARq\n",
            "EnxoVyFSqld\n",
            "RHtyakELlpYj\n",
            "UjGHmKVAOa\n",
            "yQvdqYasXjKuhN\n",
            "vdOheEZtSiHA\n",
            "cMKUJuCWEZpgAT\n",
            "BfhzQKRitlrMC\n",
            "TAjNzYQeOrKDsBHf\n",
            "LKHQIiDmVzAOFhG\n",
            "cdeRYCtuqE\n",
            "DZQodsvpqfJgB\n",
            "IgRMTLFpxZ\n",
            "RkVeEHDpjbGr\n",
            "luEyMKwCZIAq\n",
            "PhgkOEXxwsrdMuY\n",
            "CVnSHhEUvNYzi\n",
            "BsSPiDoktGnKwVX\n",
            "WnApQFRquhjNf\n",
            "trwpkRiSevAmP\n",
            "uWNZmcjixSX\n",
            "OukoqMNbDTHVdQs\n",
            "dFjbCJgXLuGT\n",
            "HKBjOUdlYwkAIWpo\n",
            "YnQAaBIMGido\n",
            "MNHAfPTmByR\n",
            "jvHUboJigz\n",
            "nefRsJwCuUEZG\n",
            "tckxjpwhRrMo\n",
            "DYMuEkFUdgBO\n",
            "IAwtSmgjxoWrzv\n",
            "ciAPfDLBhXCmZuqp\n",
            "kPpaAtDIWsCg\n",
            "OAjXYnHmrVFcZ\n",
            "tEnCBkzWJSrgPoaO\n",
            "CWvSJLmpxiPQaGhr\n",
            "LXlcaWdIRJ\n",
            "PTsNriMjcbD\n",
            "mZQPkARSsKoEVFq\n",
            "uWNLDPKmyjAp\n",
            "HjWNPBtJIiGh\n",
            "ZXPlREwjsqYvimG\n",
            "SnTyzLmbJaZ\n",
            "LjfKXwivJUWDyV\n",
            "rhyVPHgMFew\n",
            "JjlxBFZHrzKE\n",
            "HRzvSlCIUi\n",
            "SrwTPidlhfu\n",
            "XvQsZrEWxIS\n",
            "dHTKSLYsIUbQfy\n",
            "mPWCHYZOzS\n",
            "LXiadhNAqyVDR\n",
            "tRFUJWpDinZ\n",
            "hdKjTRfZFYLXnIre\n",
            "EUQIifwKrGJeYZu\n",
            "\n"
          ]
        }
      ]
    },
    {
      "cell_type": "code",
      "source": [
        "#que10 write to a file all prime numbers between 600 and 800\n",
        "import string as s\n",
        "import random as r\n",
        "f = open('myfile2.txt', 'w')\n",
        "\n",
        "for p in range(600,801):\n",
        "  a=0\n",
        "  for q in range(2,i //2 +1):\n",
        "     if p % q == 0:\n",
        "      a=1\n",
        "      break\n",
        "  if a == 0:\n",
        "    f.write( '%s\\n' %p)\n",
        "\n",
        "\n",
        "\n",
        "\n",
        "# Closing file\n",
        "f.close()\n",
        "\n",
        "# Checking if the data is\n",
        "# written to file or not\n",
        "f = open('myfile2.txt', 'r')\n",
        "print(f.read())\n",
        "f.close()\n",
        "\n",
        "\n",
        ""
      ],
      "metadata": {
        "colab": {
          "base_uri": "https://localhost:8080/"
        },
        "id": "rd47H6o1FkII",
        "outputId": "55e8df31-8914-4729-ea96-6973d4fbfeb5"
      },
      "execution_count": 38,
      "outputs": [
        {
          "output_type": "stream",
          "name": "stdout",
          "text": [
            "601\n",
            "607\n",
            "613\n",
            "617\n",
            "619\n",
            "631\n",
            "641\n",
            "643\n",
            "647\n",
            "653\n",
            "659\n",
            "661\n",
            "673\n",
            "677\n",
            "683\n",
            "691\n",
            "701\n",
            "709\n",
            "719\n",
            "727\n",
            "733\n",
            "739\n",
            "743\n",
            "751\n",
            "757\n",
            "761\n",
            "769\n",
            "773\n",
            "787\n",
            "797\n",
            "\n"
          ]
        }
      ]
    },
    {
      "cell_type": "code",
      "source": [
        "#que11 WAP to calculate time taken by a program\n",
        "import time as t\n",
        "t1=t.time()\n",
        "for i in range(100):\n",
        "  i=i+2\n",
        "  print(i)\n",
        "t2=t.time()\n",
        "print(\"time taken is\",t2-t1)"
      ],
      "metadata": {
        "colab": {
          "base_uri": "https://localhost:8080/"
        },
        "id": "Sk2UoCrnc9_F",
        "outputId": "7c8b95c6-296f-42e7-b8ae-9a354ce2ce36"
      },
      "execution_count": null,
      "outputs": [
        {
          "output_type": "stream",
          "name": "stdout",
          "text": [
            "2\n",
            "3\n",
            "4\n",
            "5\n",
            "6\n",
            "7\n",
            "8\n",
            "9\n",
            "10\n",
            "11\n",
            "12\n",
            "13\n",
            "14\n",
            "15\n",
            "16\n",
            "17\n",
            "18\n",
            "19\n",
            "20\n",
            "21\n",
            "22\n",
            "23\n",
            "24\n",
            "25\n",
            "26\n",
            "27\n",
            "28\n",
            "29\n",
            "30\n",
            "31\n",
            "32\n",
            "33\n",
            "34\n",
            "35\n",
            "36\n",
            "37\n",
            "38\n",
            "39\n",
            "40\n",
            "41\n",
            "42\n",
            "43\n",
            "44\n",
            "45\n",
            "46\n",
            "47\n",
            "48\n",
            "49\n",
            "50\n",
            "51\n",
            "52\n",
            "53\n",
            "54\n",
            "55\n",
            "56\n",
            "57\n",
            "58\n",
            "59\n",
            "60\n",
            "61\n",
            "62\n",
            "63\n",
            "64\n",
            "65\n",
            "66\n",
            "67\n",
            "68\n",
            "69\n",
            "70\n",
            "71\n",
            "72\n",
            "73\n",
            "74\n",
            "75\n",
            "76\n",
            "77\n",
            "78\n",
            "79\n",
            "80\n",
            "81\n",
            "82\n",
            "83\n",
            "84\n",
            "85\n",
            "86\n",
            "87\n",
            "88\n",
            "89\n",
            "90\n",
            "91\n",
            "92\n",
            "93\n",
            "94\n",
            "95\n",
            "96\n",
            "97\n",
            "98\n",
            "99\n",
            "100\n",
            "101\n",
            "time taken is 0.003843545913696289\n"
          ]
        }
      ]
    },
    {
      "cell_type": "code",
      "source": [
        "#que12\n",
        "import pandas as pd\n",
        "import random as r\n",
        "import time as t\n",
        "import matplotlib.pyplot as plot\n",
        "C1=t.time()\n",
        "l1=r.sample(range(1,10000000),5000)\n",
        "l2=r.sample(range(1,10000000),10000)\n",
        "l3=r.sample(range(1,10000000),15000)\n",
        "l4=r.sample(range(1,10000000),20000)\n",
        "l5=r.sample(range(1,10000000),25000)\n",
        "l1.sort()\n",
        "C2=t.time()\n",
        "print(\"print time to sort 5000 elements\",C2-C1)\n",
        "l2.sort()\n",
        "C3=t.time()\n",
        "print(\"print time to sort 10000 elements\",C3-C2)\n",
        "l3.sort()\n",
        "C4=t.time()\n",
        "print(\"print time to sort 15000 elements\",C4-C3)\n",
        "l4.sort()\n",
        "C5=t.time()\n",
        "print(\"print time to sort 20000 elements\",C5-C4)\n",
        "l5.sort()\n",
        "C6=t.time()\n",
        "print(\"print time to sort 25000 elements\",C6-C5)\n",
        "l_time=[]\n",
        "l_time.append(C2-C1)\n",
        "l_time.append(C3-C2)\n",
        "l_time.append(C4-C3)\n",
        "l_time.append(C5-C4)\n",
        "l_time.append(C6-C5)\n",
        "no_elements=[5000,10000,15000,20000,25000]\n",
        "plt.plot(no_elements,l_time)\n",
        "plot.xlabel(\"no of elements\")\n",
        "plot.ylabel(\"time taken(in sec)\")\n",
        "plt.show()\n"
      ],
      "metadata": {
        "colab": {
          "base_uri": "https://localhost:8080/",
          "height": 540
        },
        "id": "VYs9ovaRJMQ3",
        "outputId": "27416f04-8ee4-4733-aa81-b5d5776d1da6"
      },
      "execution_count": 40,
      "outputs": [
        {
          "output_type": "stream",
          "name": "stdout",
          "text": [
            "print time to sort 5000 elements 0.06043100357055664\n",
            "print time to sort 10000 elements 0.0023729801177978516\n",
            "print time to sort 15000 elements 0.003265857696533203\n",
            "print time to sort 20000 elements 0.004591941833496094\n",
            "print time to sort 25000 elements 0.009127140045166016\n"
          ]
        },
        {
          "output_type": "display_data",
          "data": {
            "text/plain": [
              "<Figure size 640x480 with 1 Axes>"
            ],
            "image/png": "[encoded data removed]"
          },
          "metadata": {}
        }
      ]
    },
    {
      "cell_type": "code",
      "source": [],
      "metadata": {
        "id": "xvQRTKZxduVf"
      },
      "execution_count": null,
      "outputs": []
    }
  ]
}